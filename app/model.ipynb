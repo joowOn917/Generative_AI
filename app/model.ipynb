{
 "cells": [
  {
   "cell_type": "markdown",
   "metadata": {},
   "source": [
    "필요시 아래 라이브러리 설치"
   ]
  },
  {
   "cell_type": "code",
   "execution_count": null,
   "metadata": {},
   "outputs": [],
   "source": [
    "pip install openai==1.10.0\n",
    "pip install diffusers accelerate safetensors transformers\n",
    "pip install compel"
   ]
  },
  {
   "cell_type": "markdown",
   "metadata": {},
   "source": [
    "### 실사 이미지 뽑을 때 활용되는 퀄리티 관련 프롬포트 \n",
    "#### positive_prompt (prompt_2) \n",
    "    가중치 부여 키워드에 사용될 단어들 \n",
    "(얼굴 관련) prominent faces++, well-defined facial features++, clear expressions++, detailed faces++, emotions captured++\n",
    "\n",
    "realism++, realistic++, true-to-life++, photo+++, best quality++, balanced++, detailed++, well-defined++, clear++, realistic color palette++, soft-focused realism++\n",
    "\n",
    "\n",
    "#### negative_prompt\n",
    "(얼굴 관련) no blurry faces, clear visibility of faces, no abstract faces, avoid shadows on faces\n",
    "\n",
    "animation, anime, doll, disney, cartoons, cropped, misshapen, blurry, unfocused, desaturated, abstract, surreal, pixelated, noisy, pop art, no faces, no objects, no landscape, mutilated, disfigured, ugly, deformed"
   ]
  },
  {
   "cell_type": "markdown",
   "metadata": {},
   "source": [
    "### 파일 저장 함수 \n",
    "\n",
    "로컬에 결과 이미지를 저장하고 확인하기 위함"
   ]
  },
  {
   "cell_type": "code",
   "execution_count": null,
   "metadata": {},
   "outputs": [],
   "source": [
    "# 파일 저장 \n",
    "import pytz\n",
    "import datetime\n",
    "\n",
    "def generate_filename(model, n, m):\n",
    "    korea_tz = pytz.timezone('Asia/Seoul')\n",
    "    utc_now = datetime.utcnow()\n",
    "    korea_now = utc_now.replace(tzinfo=pytz.utc).astimezone(korea_tz)\n",
    "    korea_now = korea_now.strftime('%H:%M')\n",
    "    # file_name = \"/tf/notebook/SD_result_img/\" + model + str(korea_now) + \".png\"\n",
    "    return \"/tf/notebook/SD_result_img/\" + model + str(n) + '_' + str(m) + str(korea_now) + \".png\""
   ]
  },
  {
   "cell_type": "markdown",
   "metadata": {},
   "source": [
    "## 이미지 생성 \n",
    "\n",
    "stable-diffusion-x1-base-1.0"
   ]
  },
  {
   "cell_type": "code",
   "execution_count": null,
   "metadata": {},
   "outputs": [],
   "source": [
    "from diffusers import DiffusionPipeline, StableDiffusionXLPipeline\n",
    "from diffusers.utils import load_image\n",
    "from compel import Compel\n",
    "import torch, gc\n",
    "from datetime import datetime\n",
    "import pytz\n",
    "\n",
    "gc.collect()\n",
    "torch.cuda.empty_cache()\n",
    "print('now cache is empty')\n",
    "\n",
    "pipe = StableDiffusionXLPipeline.from_pretrained(\n",
    "    \"stabilityai/stable-diffusion-xl-base-1.0\", \n",
    "    torch_dtype=torch.float16, \n",
    "    variant=\"fp16\", \n",
    "    use_safetensors=True\n",
    ")\n",
    "pipe.to('cuda')\n",
    "\n",
    "# Scheduler 변경 (option)\n",
    "from diffusers import DDIMScheduler, DDPMScheduler, LMSDiscreteScheduler\n",
    "pipe.scheduler = DDPMScheduler.from_config(pipe.scheduler.config)\n",
    "\n",
    "prompt = \"The kindergarteners are playing in the playground. Girls are wearing pink dresses, boys are wearing blue t-shirts. Children's bags are placed on the ground, and there are slides and swings in the playground.\"\n",
    "prompt_2 = \"playing+++, children+++, park+++, playground+++, swings+++, kindergarten+++, pink+++, students+++, kindergarteners+++, lawn+++, slide+++, swing+++, yellow+++\"\n",
    "positive_prompt = 'realistic photography+++, realism++, realistic++, super-detailed++, true-to-life++, best quality++, balanced++, well-defined++, clear++, well-defined facial features++, detailed faces++'\n",
    "negative_prompt = 'CG, wallpaper, animation, anime, doll, disney, cartoons, cropped, misshapen, blurry, unfocused, desaturated, abstract, surreal, pixelated, noisy, pop art, no faces, no objects, no landscape, mutilated, disfigured, ugly, deformed, clear visibility of faces, no abstract faces, shadows on faces'\n",
    "\n",
    "prompt_2 = prompt_2 + positive_prompt\n",
    "\n",
    "n = 130\n",
    "m = 7.5\n",
    "\n",
    "# generator=torch.manual_seed(1)\n",
    "image = pipe(prompt=prompt, prompt_2=prompt_2, negative_prompt=negative_prompt, num_inference_steps=n, guidance_scale=m).images[0]\n",
    " \n",
    "file_name = generate_filename('sdxl-base-1.0_DDPM', n, m)\n",
    "image.save(file_name)\n",
    "image"
   ]
  }
 ],
 "metadata": {
  "language_info": {
   "name": "python"
  }
 },
 "nbformat": 4,
 "nbformat_minor": 2
}
